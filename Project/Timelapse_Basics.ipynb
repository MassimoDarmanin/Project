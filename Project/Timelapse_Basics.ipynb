{
 "cells": [
  {
   "cell_type": "markdown",
   "source": [
    "Bulk processing Sentinel products to PNG images"
   ],
   "metadata": {
    "collapsed": false,
    "pycharm": {
     "name": "#%% md\n"
    }
   }
  },
  {
   "cell_type": "code",
   "execution_count": 19,
   "outputs": [],
   "source": [
    "import geopandas as gpd\n",
    "import folium\n",
    "import os\n",
    "from PIL import Image\n",
    "from sentinelsat.sentinel import SentinelAPI, read_geojson, geojson_to_wkt\n",
    "import matplotlib.pyplot as plt\n",
    "import numpy as np\n",
    "import os\n",
    "#from geojson import Point\n",
    "from geojson import Polygon\n",
    "import geojson\n",
    "import tempfile\n",
    "import datetime as dt\n",
    "from shapely.geometry import MultiPolygon, Polygon\n",
    "import rasterio as rio\n",
    "from rasterio import plot\n",
    "import rasterio.mask\n",
    "import fiona\n",
    "from sentinelsat import SentinelAPI, read_geojson, geojson_to_wkt\n",
    "from skimage import exposure\n",
    "from pathlib import Path"
   ],
   "metadata": {
    "collapsed": false,
    "pycharm": {
     "name": "#%%\n"
    }
   }
  },
  {
   "cell_type": "code",
   "execution_count": 20,
   "outputs": [
    {
     "name": "stdout",
     "output_type": "stream",
     "text": [
      " data\n",
      "--- S2A_MSIL1C_20210315T094031_N0209_R036_T33SVV_20210315T110237.SAFE\n",
      "------ AUX_DATA\n",
      "------ DATASTRIP\n",
      "--------- DS_VGS4_20210315T110237_S20210315T094345\n",
      "------------ QI_DATA\n",
      "------ GRANULE\n",
      "--------- L1C_T33SVV_A029920_20210315T094345\n",
      "------------ AUX_DATA\n",
      "------------ IMG_DATA\n",
      "--------------- T33SVV_20210315T094031_B01.jp2\n",
      "--------------- T33SVV_20210315T094031_B02.jp2\n",
      "--------------- T33SVV_20210315T094031_B03.jp2\n",
      "--------------- T33SVV_20210315T094031_B04.jp2\n",
      "--------------- T33SVV_20210315T094031_B05.jp2\n",
      "--------------- T33SVV_20210315T094031_B06.jp2\n",
      "--------------- T33SVV_20210315T094031_B07.jp2\n",
      "--------------- T33SVV_20210315T094031_B08.jp2\n",
      "--------------- T33SVV_20210315T094031_B09.jp2\n",
      "--------------- T33SVV_20210315T094031_B10.jp2\n",
      "--------------- T33SVV_20210315T094031_B11.jp2\n",
      "--------------- T33SVV_20210315T094031_B12.jp2\n",
      "--------------- T33SVV_20210315T094031_B8A.jp2\n",
      "--------------- T33SVV_20210315T094031_TCI.jp2\n",
      "1\n",
      "10980\n",
      "10980\n",
      "uint16\n",
      "EPSG:32633\n",
      "| 10.00, 0.00, 399960.00|\n",
      "| 0.00,-10.00, 4000020.00|\n",
      "| 0.00, 0.00, 1.00|\n"
     ]
    },
    {
     "ename": "ValueError",
     "evalue": "axes don't match array",
     "output_type": "error",
     "traceback": [
      "\u001B[1;31m---------------------------------------------------------------------------\u001B[0m",
      "\u001B[1;31mValueError\u001B[0m                                Traceback (most recent call last)",
      "\u001B[1;32m<ipython-input-20-7b8757a57a1a>\u001B[0m in \u001B[0;36m<module>\u001B[1;34m\u001B[0m\n\u001B[0;32m     92\u001B[0m             \u001B[0mimage\u001B[0m \u001B[1;33m=\u001B[0m \u001B[0mexposure\u001B[0m\u001B[1;33m.\u001B[0m\u001B[0mrescale_intensity\u001B[0m\u001B[1;33m(\u001B[0m\u001B[0mimage\u001B[0m\u001B[1;33m,\u001B[0m \u001B[0min_range\u001B[0m\u001B[1;33m=\u001B[0m\u001B[1;33m(\u001B[0m\u001B[0mp2\u001B[0m\u001B[1;33m,\u001B[0m \u001B[0mp98\u001B[0m\u001B[1;33m)\u001B[0m\u001B[1;33m)\u001B[0m \u001B[1;33m/\u001B[0m \u001B[1;36m100000\u001B[0m\u001B[1;33m\u001B[0m\u001B[1;33m\u001B[0m\u001B[0m\n\u001B[0;32m     93\u001B[0m \u001B[1;33m\u001B[0m\u001B[0m\n\u001B[1;32m---> 94\u001B[1;33m             \u001B[0mrgb\u001B[0m \u001B[1;33m=\u001B[0m \u001B[0mnp\u001B[0m\u001B[1;33m.\u001B[0m\u001B[0marray\u001B[0m\u001B[1;33m(\u001B[0m\u001B[0mimage\u001B[0m\u001B[1;33m.\u001B[0m\u001B[0mtranspose\u001B[0m\u001B[1;33m(\u001B[0m\u001B[1;36m1\u001B[0m\u001B[1;33m,\u001B[0m\u001B[1;36m2\u001B[0m\u001B[1;33m)\u001B[0m\u001B[1;33m)\u001B[0m\u001B[1;33m\u001B[0m\u001B[1;33m\u001B[0m\u001B[0m\n\u001B[0m\u001B[0;32m     95\u001B[0m \u001B[1;33m\u001B[0m\u001B[0m\n\u001B[0;32m     96\u001B[0m             \u001B[1;31m#Plot and save image with Matplotlib\u001B[0m\u001B[1;33m\u001B[0m\u001B[1;33m\u001B[0m\u001B[1;33m\u001B[0m\u001B[0m\n",
      "\u001B[1;31mValueError\u001B[0m: axes don't match array"
     ]
    }
   ],
   "source": [
    "# Create a path to the exported folder\n",
    "path = Path('./data')\n",
    "k=0\n",
    "# traverse root directory, and list directories as dirs and files as files\n",
    "for root, dirs, files in os.walk(\"./data\"):\n",
    "    path = root.split(os.sep)\n",
    "    print((len(path) - 1) * '---', os.path.basename(root))\n",
    "\n",
    "    if os.path.basename(root) == 'IMG_DATA':\n",
    "        k+=1\n",
    "        for file in files:\n",
    "            print(len(path) * '---', file)\n",
    "\n",
    "            if 'B02' in file: band2 = rasterio.open(os.path.join(root,file), driver='JP2OpenJPEG') #blue\n",
    "            if 'B03' in file: band3 = rasterio.open(os.path.join(root,file), driver='JP2OpenJPEG') #green\n",
    "            if 'B04' in file: band4 = rasterio.open(os.path.join(root,file), driver='JP2OpenJPEG') #red\n",
    "            if 'B08' in file: band8 = rasterio.open(os.path.join(root,file), driver='JP2OpenJPEG') #nir\n",
    "            if 'B12' in file: band12 = rasterio.open(os.path.join(root,file), driver='JP2OpenJPEG') #swir\n",
    "\n",
    "\n",
    "        if band4 is not None:\n",
    "            #number of raster bands\n",
    "            print(band4.count)\n",
    "            #number of raster columns\n",
    "            print(band4.width)\n",
    "            #number of raster rows\n",
    "            print(band4.height)\n",
    "\n",
    "            #type of raster byte\n",
    "            print(band4.dtypes[0])\n",
    "            #raster sytem of reference\n",
    "            print(band4.crs)\n",
    "            #raster transform parameters\n",
    "            print(band4.transform)\n",
    "\n",
    "            #export true color image\n",
    "            trueColor = rasterio.open('./Output/Cache/SentinelTemp.tiff','w',driver='Gtiff',\n",
    "                                     width=band4.width, height=band4.height,\n",
    "                                     count=3,\n",
    "                                     crs=band4.crs,\n",
    "                                     transform=band2.transform,\n",
    "                                     dtype=band2.dtypes[0]\n",
    "                                     )\n",
    "            trueColor.write(band2.read(1),1) #blue\n",
    "            trueColor.write(band3.read(1),2) #green\n",
    "            trueColor.write(band4.read(1),3) #red\n",
    "            trueColor.close()\n",
    "\n",
    "            # Mask area of study\n",
    "\n",
    "            # Load polygon vector of Gozo to clip satellite image\n",
    "            boundsdata = r'./data/delimara_close_area_geojson.geojson'\n",
    "            region = gpd.read_file(boundsdata)\n",
    "            region\n",
    "\n",
    "            nReserve_proj = region.to_crs({'init': 'epsg:32633'})\n",
    "\n",
    "\n",
    "            with rio.open(\"./Output/Cache/SentinelTemp.tiff\") as src:\n",
    "                out_image, out_transform = rio.mask.mask(src, nReserve_proj.geometry,crop=True)\n",
    "                out_meta = src.meta.copy()\n",
    "                out_meta.update({\"driver\": \"GTiff\",\n",
    "                             \"height\": out_image.shape[1],\n",
    "                             \"width\": out_image.shape[2],\n",
    "                             \"transform\": out_transform,\n",
    "                             \"dtype\": \"uint16\"})\n",
    "\n",
    "            # Rescale the image (divide by 10000 to convert to [0:1] reflectance\n",
    "            image = np.array(out_image[[2,1], :, :])\n",
    "            p2, p98 = np.percentile(image, (2,98))\n",
    "            image = exposure.rescale_intensity(image, in_range=(p2, p98)) / 100000\n",
    "\n",
    "            rgb = np.array(image.transpose(1,2))\n",
    "\n",
    "            #Plot and save image with Matplotlib\n",
    "            fig = plt.figure(figsize=(20,16))\n",
    "            ax=fig.add_subplot(1,1,1)\n",
    "            plt.axis('off')\n",
    "            plt.imshow(rgb)\n",
    "\n",
    "            #Save scaled reflectance image\n",
    "            # Call 'savefig' to save this plot to an image file\n",
    "            file_to_save = 'Rendered_' + str(k).zfill(3) +'.png'\n",
    "            plt.savefig(os.path.join('./Output/PROCESSED', file_to_save), bbox_inches='tight', transparent=True, pad_inches=0)\n",
    "            plt.show()"
   ],
   "metadata": {
    "collapsed": false,
    "pycharm": {
     "name": "#%%\n"
    }
   }
  },
  {
   "cell_type": "markdown",
   "metadata": {
    "collapsed": true,
    "pycharm": {
     "name": "#%% md\n"
    }
   },
   "source": [
    "Read images from a directory and construct video"
   ]
  },
  {
   "cell_type": "code",
   "execution_count": null,
   "outputs": [],
   "source": [
    "# Creaating Video from Images using OpenCV-Python\n",
    "import cv2\n",
    "import numpy as np\n",
    "import glob\n",
    "\n",
    "img_array = []\n",
    "for filename in glob.glob('./Output/Processed/*.png'):\n",
    "    img = cv2.imread(filename)\n",
    "    height, width, layers = img.shape\n",
    "    size = (width,height)\n",
    "    img_array.append(img)\n",
    "\n",
    "\n",
    "out = cv2.VideoWriter('project.avi',cv2.VideoWriter_fourcc(*'MJPG'), 1, size)\n",
    "\n",
    "for i in range(len(img_array)):\n",
    "    out.write(img_array[i])\n",
    "out.release()\n"
   ],
   "metadata": {
    "collapsed": false,
    "pycharm": {
     "name": "#%%\n"
    }
   }
  },
  {
   "cell_type": "code",
   "execution_count": null,
   "outputs": [],
   "source": [
    "# Algorithm for blending multiple images using OpenCV\n",
    "\n",
    "import glob\n",
    "import numpy as np\n",
    "import cv2\n",
    "\n",
    "# Import all image files with the .jpg extension\n",
    "files = glob.glob ('./Output/Processed/*.png')\n",
    "image_data = []\n",
    "for my_file in files:\n",
    "    this_image = cv2.imread(my_file, 1)\n",
    "    image_data.append(this_image)\n",
    "\n",
    "# Calculate blended image\n",
    "dst = image_data[0]\n",
    "for i in range(len(image_data)):\n",
    "    if i == 0:\n",
    "        pass\n",
    "    else:\n",
    "        alpha = 1.0/(i + 1)\n",
    "        beta = 1.0 - alpha\n",
    "        dst = cv2.addWeighted(image_data[i], alpha, dst, beta, 0.0)\n",
    "\n",
    "# Save blended image\n",
    "cv2.imwrite('./Output/Processed/blended.png', dst)\n"
   ],
   "metadata": {
    "collapsed": false,
    "pycharm": {
     "name": "#%%\n"
    }
   }
  }
 ],
 "metadata": {
  "kernelspec": {
   "name": "remsen-venv--user",
   "language": "python",
   "display_name": "remsen-venv--user"
  },
  "language_info": {
   "codemirror_mode": {
    "name": "ipython",
    "version": 2
   },
   "file_extension": ".py",
   "mimetype": "text/x-python",
   "name": "python",
   "nbconvert_exporter": "python",
   "pygments_lexer": "ipython2",
   "version": "2.7.6"
  }
 },
 "nbformat": 4,
 "nbformat_minor": 0
}